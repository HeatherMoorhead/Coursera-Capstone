{
 "cells": [
  {
   "cell_type": "markdown",
   "metadata": {},
   "source": [
    "# Capstone Project: The Battle of the Neighborhoods (Week 4)."
   ]
  },
  {
   "cell_type": "markdown",
   "metadata": {},
   "source": [
    "### Part 1: Describe the problem and discuss the background."
   ]
  },
  {
   "cell_type": "markdown",
   "metadata": {},
   "source": [
    "**Background:**                                                                                           \n",
    "New York City (NYC) is located on the east coast of American in New York state. The city is made up of five boroughs: Manhattan, Brooklyn, Queens, the Bronx and Staten Island. These boroughs are further separated into 306 neighborhoods. NYC is a multicultural hub of businesses and restaurants and is home to over 8 million people that speak over 800 languages. Additionally, NYC is known for its diverse food culture and is esimated to have over 23,650 restaurants and bars. \n",
    "\n",
    "**Business problem:**                                                                                                   \n",
    "Restaurant owner Mr Ricci owns one very successful Italian restaurant in the Upper West Side of Manhattan, NYC. He very recently secured capital from several investors who want to help Mr Ricci franchise his restaurant and open up more stores in different boroughs/ neighborhoods of NYC. Mr Ricci is willing to open more restaurants in either Brooklyn or Manhattan. The problem is that Mr Ricci does not know which neighborhoods within the two boroughs are best to open up his next franchise.\n",
    "\n",
    "**Stakeholders:**                                                                                                      \n",
    "The stakehodelers in this project include Mr Ricci, his family who help manage the restaurant, his employees (who may move to work at future franchises) as well as his investors who want to see a good return on investment."
   ]
  },
  {
   "cell_type": "markdown",
   "metadata": {},
   "source": [
    "### Part 2: Decribe the data required and how it can be used to solve the problem."
   ]
  },
  {
   "cell_type": "markdown",
   "metadata": {},
   "source": [
    "To help Mr Ricci solve his problem and identify suitable neighbourhoods to open his next franchise I will use two sources of data. The first source of data is a JSON file provided by Coursera containing the name of each of 306 neighborhoods and their respective boroughs as well as latitude and longitude coordinates for each neighborhood. The second source of data will be obtained using the Foursquare API.\n",
    "\n",
    "I will use the Foursquare API to retrive location information on all of the neighborhoods in Manhattan and Brooklyn. The API will give us information of the types of venues and most common venues within a 500m radius of each coordinate. Using the top 10 most common venues in each neighborhhood I will use K-means clustering to find groups of similar neighborhoods. The neighborhoods most similar to the Upper West Side should be suitable areas to open Mr Ricci's next franchise.\n",
    "\n"
   ]
  },
  {
   "cell_type": "markdown",
   "metadata": {},
   "source": [
    "The neighborhood name/coordinate data provided by Coursera is a JSON file and is accessible through the following link: \n",
    "\n",
    "https://cf-courses-data.s3.us.cloud-object-storage.appdomain.cloud/IBMDeveloperSkillsNetwork-DS0701EN-SkillsNetwork/labs/newyork_data.json"
   ]
  },
  {
   "cell_type": "code",
   "execution_count": null,
   "metadata": {},
   "outputs": [],
   "source": []
  }
 ],
 "metadata": {
  "kernelspec": {
   "display_name": "Python 3",
   "language": "python",
   "name": "python3"
  },
  "language_info": {
   "codemirror_mode": {
    "name": "ipython",
    "version": 3
   },
   "file_extension": ".py",
   "mimetype": "text/x-python",
   "name": "python",
   "nbconvert_exporter": "python",
   "pygments_lexer": "ipython3",
   "version": "3.8.5"
  }
 },
 "nbformat": 4,
 "nbformat_minor": 4
}
